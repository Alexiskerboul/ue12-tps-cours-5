{
 "cells": [
  {
   "cell_type": "markdown",
   "id": "dc33ab05",
   "metadata": {},
   "source": [
    "<div class=\"licence\">\n",
    "<span>Licence CC BY-NC-ND</span>\n",
    "<span>Thierry Parmentelat &amp; Arnaud Legout</span>\n",
    "</div>"
   ]
  },
  {
   "cell_type": "code",
   "execution_count": 2,
   "id": "e6ae79d5",
   "metadata": {
    "slideshow": {
     "slide_type": "slide"
    }
   },
   "outputs": [],
   "source": [
    "import numpy as np\n",
    "import matplotlib.pyplot as plt\n",
    "%matplotlib ipympl"
   ]
  },
  {
   "cell_type": "markdown",
   "id": "b85f3cff",
   "metadata": {},
   "source": [
    "# l'ensemble de Mandelbrot\n",
    "\n",
    "il s'agit de calculer l'image de la convergence de mandelbrot:\n",
    "\n",
    "<img src=\"media/mandelbrot.svg\">"
   ]
  },
  {
   "cell_type": "markdown",
   "id": "1eba05a7",
   "metadata": {},
   "source": [
    "## comment ça marche ?"
   ]
  },
  {
   "cell_type": "markdown",
   "id": "bca9ce2c",
   "metadata": {
    "cell_style": "center",
    "slideshow": {
     "slide_type": "slide"
    }
   },
   "source": [
    "* dans l'espace complexe, on définit pour chaque $c\\in\\mathbb{C}$ la suite\n",
    "   * $z_0 = c$\n",
    "   * $z_{n+1} = z_n^2 + c$\n",
    "* on démontre que \n",
    "  * lorsque $|z_n|>2$, la suite diverge"
   ]
  },
  {
   "cell_type": "markdown",
   "id": "5d5027c3",
   "metadata": {
    "cell_style": "center",
    "slideshow": {
     "slide_type": "-"
    }
   },
   "source": [
    "il s'agit pour nous de \n",
    "\n",
    "* partir d'un pavé rectangulaire  \n",
    "  par exemple sur la figure, on a pris l'habituel  \n",
    "  $re \\in [-2, 0.8]$ et  $im \\in [-1.4, 1.4]$\n",
    "* découper ce pavé en un maillage de $w \\times h$ points  \n",
    "  (sur la figure, 1000 x 1000)\n",
    "* on se fixe un nombre maximal `max` d'itérations (disons 20)\n",
    "  * et pour chaque point du maillage, on va calculer si la suite diverge avant `max` itérations\n",
    "* c'est-à-dire plus spécifiquement on calcule un tableau `diverge` de la taille du maillage\n",
    "  * pour chaque point `z`, on calcule les `max` premiers termes de la suite\n",
    "  * et à la première itération `n` où la suite diverge (son module est supérieur à 2)  \n",
    "    alors on affecte `diverge[z] = n`\n",
    "* on n'a plus qu'à afficher ensuite l'image obtenue avec `plt.imshow`"
   ]
  },
  {
   "cell_type": "markdown",
   "id": "e1c387d9",
   "metadata": {
    "slideshow": {
     "slide_type": "slide"
    }
   },
   "source": [
    "*indices*\n",
    "\n",
    "* pour fabriquer la grille des points de départ, \n",
    "  on pourra regarder `np.linspace` et `np.meshgrid`"
   ]
  },
  {
   "cell_type": "code",
   "execution_count": 4,
   "id": "f8f176e6",
   "metadata": {},
   "outputs": [
    {
     "ename": "TypeError",
     "evalue": "Invalid shape (2, 100, 100) for image data",
     "output_type": "error",
     "traceback": [
      "\u001b[0;31m---------------------------------------------------------------------------\u001b[0m",
      "\u001b[0;31mTypeError\u001b[0m                                 Traceback (most recent call last)",
      "Cell \u001b[0;32mIn[4], line 7\u001b[0m\n\u001b[1;32m      5\u001b[0m     M \u001b[38;5;241m=\u001b[39m np\u001b[38;5;241m.\u001b[39mmeshgrid(X,Y)\n\u001b[1;32m      6\u001b[0m     \u001b[38;5;28;01mreturn\u001b[39;00m M\n\u001b[0;32m----> 7\u001b[0m plt\u001b[38;5;241m.\u001b[39mimshow(mandelbrot(\u001b[38;5;241m100\u001b[39m,\u001b[38;5;241m100\u001b[39m))\n",
      "File \u001b[0;32m~/anaconda3/lib/python3.11/site-packages/matplotlib/pyplot.py:2695\u001b[0m, in \u001b[0;36mimshow\u001b[0;34m(X, cmap, norm, aspect, interpolation, alpha, vmin, vmax, origin, extent, interpolation_stage, filternorm, filterrad, resample, url, data, **kwargs)\u001b[0m\n\u001b[1;32m   2689\u001b[0m \u001b[38;5;129m@_copy_docstring_and_deprecators\u001b[39m(Axes\u001b[38;5;241m.\u001b[39mimshow)\n\u001b[1;32m   2690\u001b[0m \u001b[38;5;28;01mdef\u001b[39;00m \u001b[38;5;21mimshow\u001b[39m(\n\u001b[1;32m   2691\u001b[0m         X, cmap\u001b[38;5;241m=\u001b[39m\u001b[38;5;28;01mNone\u001b[39;00m, norm\u001b[38;5;241m=\u001b[39m\u001b[38;5;28;01mNone\u001b[39;00m, \u001b[38;5;241m*\u001b[39m, aspect\u001b[38;5;241m=\u001b[39m\u001b[38;5;28;01mNone\u001b[39;00m, interpolation\u001b[38;5;241m=\u001b[39m\u001b[38;5;28;01mNone\u001b[39;00m,\n\u001b[1;32m   2692\u001b[0m         alpha\u001b[38;5;241m=\u001b[39m\u001b[38;5;28;01mNone\u001b[39;00m, vmin\u001b[38;5;241m=\u001b[39m\u001b[38;5;28;01mNone\u001b[39;00m, vmax\u001b[38;5;241m=\u001b[39m\u001b[38;5;28;01mNone\u001b[39;00m, origin\u001b[38;5;241m=\u001b[39m\u001b[38;5;28;01mNone\u001b[39;00m, extent\u001b[38;5;241m=\u001b[39m\u001b[38;5;28;01mNone\u001b[39;00m,\n\u001b[1;32m   2693\u001b[0m         interpolation_stage\u001b[38;5;241m=\u001b[39m\u001b[38;5;28;01mNone\u001b[39;00m, filternorm\u001b[38;5;241m=\u001b[39m\u001b[38;5;28;01mTrue\u001b[39;00m, filterrad\u001b[38;5;241m=\u001b[39m\u001b[38;5;241m4.0\u001b[39m,\n\u001b[1;32m   2694\u001b[0m         resample\u001b[38;5;241m=\u001b[39m\u001b[38;5;28;01mNone\u001b[39;00m, url\u001b[38;5;241m=\u001b[39m\u001b[38;5;28;01mNone\u001b[39;00m, data\u001b[38;5;241m=\u001b[39m\u001b[38;5;28;01mNone\u001b[39;00m, \u001b[38;5;241m*\u001b[39m\u001b[38;5;241m*\u001b[39mkwargs):\n\u001b[0;32m-> 2695\u001b[0m     __ret \u001b[38;5;241m=\u001b[39m gca()\u001b[38;5;241m.\u001b[39mimshow(\n\u001b[1;32m   2696\u001b[0m         X, cmap\u001b[38;5;241m=\u001b[39mcmap, norm\u001b[38;5;241m=\u001b[39mnorm, aspect\u001b[38;5;241m=\u001b[39maspect,\n\u001b[1;32m   2697\u001b[0m         interpolation\u001b[38;5;241m=\u001b[39minterpolation, alpha\u001b[38;5;241m=\u001b[39malpha, vmin\u001b[38;5;241m=\u001b[39mvmin,\n\u001b[1;32m   2698\u001b[0m         vmax\u001b[38;5;241m=\u001b[39mvmax, origin\u001b[38;5;241m=\u001b[39morigin, extent\u001b[38;5;241m=\u001b[39mextent,\n\u001b[1;32m   2699\u001b[0m         interpolation_stage\u001b[38;5;241m=\u001b[39minterpolation_stage,\n\u001b[1;32m   2700\u001b[0m         filternorm\u001b[38;5;241m=\u001b[39mfilternorm, filterrad\u001b[38;5;241m=\u001b[39mfilterrad, resample\u001b[38;5;241m=\u001b[39mresample,\n\u001b[1;32m   2701\u001b[0m         url\u001b[38;5;241m=\u001b[39murl, \u001b[38;5;241m*\u001b[39m\u001b[38;5;241m*\u001b[39m({\u001b[38;5;124m\"\u001b[39m\u001b[38;5;124mdata\u001b[39m\u001b[38;5;124m\"\u001b[39m: data} \u001b[38;5;28;01mif\u001b[39;00m data \u001b[38;5;129;01mis\u001b[39;00m \u001b[38;5;129;01mnot\u001b[39;00m \u001b[38;5;28;01mNone\u001b[39;00m \u001b[38;5;28;01melse\u001b[39;00m {}),\n\u001b[1;32m   2702\u001b[0m         \u001b[38;5;241m*\u001b[39m\u001b[38;5;241m*\u001b[39mkwargs)\n\u001b[1;32m   2703\u001b[0m     sci(__ret)\n\u001b[1;32m   2704\u001b[0m     \u001b[38;5;28;01mreturn\u001b[39;00m __ret\n",
      "File \u001b[0;32m~/anaconda3/lib/python3.11/site-packages/matplotlib/__init__.py:1446\u001b[0m, in \u001b[0;36m_preprocess_data.<locals>.inner\u001b[0;34m(ax, data, *args, **kwargs)\u001b[0m\n\u001b[1;32m   1443\u001b[0m \u001b[38;5;129m@functools\u001b[39m\u001b[38;5;241m.\u001b[39mwraps(func)\n\u001b[1;32m   1444\u001b[0m \u001b[38;5;28;01mdef\u001b[39;00m \u001b[38;5;21minner\u001b[39m(ax, \u001b[38;5;241m*\u001b[39margs, data\u001b[38;5;241m=\u001b[39m\u001b[38;5;28;01mNone\u001b[39;00m, \u001b[38;5;241m*\u001b[39m\u001b[38;5;241m*\u001b[39mkwargs):\n\u001b[1;32m   1445\u001b[0m     \u001b[38;5;28;01mif\u001b[39;00m data \u001b[38;5;129;01mis\u001b[39;00m \u001b[38;5;28;01mNone\u001b[39;00m:\n\u001b[0;32m-> 1446\u001b[0m         \u001b[38;5;28;01mreturn\u001b[39;00m func(ax, \u001b[38;5;241m*\u001b[39m\u001b[38;5;28mmap\u001b[39m(sanitize_sequence, args), \u001b[38;5;241m*\u001b[39m\u001b[38;5;241m*\u001b[39mkwargs)\n\u001b[1;32m   1448\u001b[0m     bound \u001b[38;5;241m=\u001b[39m new_sig\u001b[38;5;241m.\u001b[39mbind(ax, \u001b[38;5;241m*\u001b[39margs, \u001b[38;5;241m*\u001b[39m\u001b[38;5;241m*\u001b[39mkwargs)\n\u001b[1;32m   1449\u001b[0m     auto_label \u001b[38;5;241m=\u001b[39m (bound\u001b[38;5;241m.\u001b[39marguments\u001b[38;5;241m.\u001b[39mget(label_namer)\n\u001b[1;32m   1450\u001b[0m                   \u001b[38;5;129;01mor\u001b[39;00m bound\u001b[38;5;241m.\u001b[39mkwargs\u001b[38;5;241m.\u001b[39mget(label_namer))\n",
      "File \u001b[0;32m~/anaconda3/lib/python3.11/site-packages/matplotlib/axes/_axes.py:5663\u001b[0m, in \u001b[0;36mAxes.imshow\u001b[0;34m(self, X, cmap, norm, aspect, interpolation, alpha, vmin, vmax, origin, extent, interpolation_stage, filternorm, filterrad, resample, url, **kwargs)\u001b[0m\n\u001b[1;32m   5655\u001b[0m \u001b[38;5;28mself\u001b[39m\u001b[38;5;241m.\u001b[39mset_aspect(aspect)\n\u001b[1;32m   5656\u001b[0m im \u001b[38;5;241m=\u001b[39m mimage\u001b[38;5;241m.\u001b[39mAxesImage(\u001b[38;5;28mself\u001b[39m, cmap\u001b[38;5;241m=\u001b[39mcmap, norm\u001b[38;5;241m=\u001b[39mnorm,\n\u001b[1;32m   5657\u001b[0m                       interpolation\u001b[38;5;241m=\u001b[39minterpolation, origin\u001b[38;5;241m=\u001b[39morigin,\n\u001b[1;32m   5658\u001b[0m                       extent\u001b[38;5;241m=\u001b[39mextent, filternorm\u001b[38;5;241m=\u001b[39mfilternorm,\n\u001b[1;32m   5659\u001b[0m                       filterrad\u001b[38;5;241m=\u001b[39mfilterrad, resample\u001b[38;5;241m=\u001b[39mresample,\n\u001b[1;32m   5660\u001b[0m                       interpolation_stage\u001b[38;5;241m=\u001b[39minterpolation_stage,\n\u001b[1;32m   5661\u001b[0m                       \u001b[38;5;241m*\u001b[39m\u001b[38;5;241m*\u001b[39mkwargs)\n\u001b[0;32m-> 5663\u001b[0m im\u001b[38;5;241m.\u001b[39mset_data(X)\n\u001b[1;32m   5664\u001b[0m im\u001b[38;5;241m.\u001b[39mset_alpha(alpha)\n\u001b[1;32m   5665\u001b[0m \u001b[38;5;28;01mif\u001b[39;00m im\u001b[38;5;241m.\u001b[39mget_clip_path() \u001b[38;5;129;01mis\u001b[39;00m \u001b[38;5;28;01mNone\u001b[39;00m:\n\u001b[1;32m   5666\u001b[0m     \u001b[38;5;66;03m# image does not already have clipping set, clip to axes patch\u001b[39;00m\n",
      "File \u001b[0;32m~/anaconda3/lib/python3.11/site-packages/matplotlib/image.py:710\u001b[0m, in \u001b[0;36m_ImageBase.set_data\u001b[0;34m(self, A)\u001b[0m\n\u001b[1;32m    706\u001b[0m     \u001b[38;5;28mself\u001b[39m\u001b[38;5;241m.\u001b[39m_A \u001b[38;5;241m=\u001b[39m \u001b[38;5;28mself\u001b[39m\u001b[38;5;241m.\u001b[39m_A[:, :, \u001b[38;5;241m0\u001b[39m]\n\u001b[1;32m    708\u001b[0m \u001b[38;5;28;01mif\u001b[39;00m \u001b[38;5;129;01mnot\u001b[39;00m (\u001b[38;5;28mself\u001b[39m\u001b[38;5;241m.\u001b[39m_A\u001b[38;5;241m.\u001b[39mndim \u001b[38;5;241m==\u001b[39m \u001b[38;5;241m2\u001b[39m\n\u001b[1;32m    709\u001b[0m         \u001b[38;5;129;01mor\u001b[39;00m \u001b[38;5;28mself\u001b[39m\u001b[38;5;241m.\u001b[39m_A\u001b[38;5;241m.\u001b[39mndim \u001b[38;5;241m==\u001b[39m \u001b[38;5;241m3\u001b[39m \u001b[38;5;129;01mand\u001b[39;00m \u001b[38;5;28mself\u001b[39m\u001b[38;5;241m.\u001b[39m_A\u001b[38;5;241m.\u001b[39mshape[\u001b[38;5;241m-\u001b[39m\u001b[38;5;241m1\u001b[39m] \u001b[38;5;129;01min\u001b[39;00m [\u001b[38;5;241m3\u001b[39m, \u001b[38;5;241m4\u001b[39m]):\n\u001b[0;32m--> 710\u001b[0m     \u001b[38;5;28;01mraise\u001b[39;00m \u001b[38;5;167;01mTypeError\u001b[39;00m(\u001b[38;5;124m\"\u001b[39m\u001b[38;5;124mInvalid shape \u001b[39m\u001b[38;5;132;01m{}\u001b[39;00m\u001b[38;5;124m for image data\u001b[39m\u001b[38;5;124m\"\u001b[39m\n\u001b[1;32m    711\u001b[0m                     \u001b[38;5;241m.\u001b[39mformat(\u001b[38;5;28mself\u001b[39m\u001b[38;5;241m.\u001b[39m_A\u001b[38;5;241m.\u001b[39mshape))\n\u001b[1;32m    713\u001b[0m \u001b[38;5;28;01mif\u001b[39;00m \u001b[38;5;28mself\u001b[39m\u001b[38;5;241m.\u001b[39m_A\u001b[38;5;241m.\u001b[39mndim \u001b[38;5;241m==\u001b[39m \u001b[38;5;241m3\u001b[39m:\n\u001b[1;32m    714\u001b[0m     \u001b[38;5;66;03m# If the input data has values outside the valid range (after\u001b[39;00m\n\u001b[1;32m    715\u001b[0m     \u001b[38;5;66;03m# normalisation), we issue a warning and then clip X to the bounds\u001b[39;00m\n\u001b[1;32m    716\u001b[0m     \u001b[38;5;66;03m# - otherwise casting wraps extreme values, hiding outliers and\u001b[39;00m\n\u001b[1;32m    717\u001b[0m     \u001b[38;5;66;03m# making reliable interpretation impossible.\u001b[39;00m\n\u001b[1;32m    718\u001b[0m     high \u001b[38;5;241m=\u001b[39m \u001b[38;5;241m255\u001b[39m \u001b[38;5;28;01mif\u001b[39;00m np\u001b[38;5;241m.\u001b[39missubdtype(\u001b[38;5;28mself\u001b[39m\u001b[38;5;241m.\u001b[39m_A\u001b[38;5;241m.\u001b[39mdtype, np\u001b[38;5;241m.\u001b[39minteger) \u001b[38;5;28;01melse\u001b[39;00m \u001b[38;5;241m1\u001b[39m\n",
      "\u001b[0;31mTypeError\u001b[0m: Invalid shape (2, 100, 100) for image data"
     ]
    },
    {
     "data": {
      "application/vnd.jupyter.widget-view+json": {
       "model_id": "58ebb421d22e46f586a1bc697869b95f",
       "version_major": 2,
       "version_minor": 0
      },
      "image/png": "[encoded data removed]",
      "text/html": [
       "\n",
       "            <div style=\"display: inline-block;\">\n",
       "                <div class=\"jupyter-widgets widget-label\" style=\"text-align: center;\">\n",
       "                    Figure\n",
       "                </div>\n",
       "                <img src='data:image/png;base64,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' width=640.0/>\n",
       "            </div>\n",
       "        "
      ],
      "text/plain": [
       "Canvas(toolbar=Toolbar(toolitems=[('Home', 'Reset original view', 'home', 'home'), ('Back', 'Back to previous …"
      ]
     },
     "metadata": {},
     "output_type": "display_data"
    }
   ],
   "source": [
    "# à vous de jouer\n",
    "def func(x,y,n):\n",
    "        if n == 0:\n",
    "            return complex(x,y)\n",
    "        return func(x,y,n-1)**2 + complex(x,y)\n",
    "\n",
    "def diverge(x,y,n):\n",
    "    L = np.arrange(n)\n",
    "    L = abs(func(x,y,L))\n",
    "    if max(L) > 2:\n",
    "        return L.index(max(L))\n",
    "    return None\n",
    "\n",
    "def mandelbrot(w, h):\n",
    "    X = np.linspace(-2, 0.8, w)\n",
    "    Y = np.linspace(-1.4, 1.4, h)\n",
    "    N = diverge(X,Y,20)\n",
    "    return \n",
    "\n",
    "\n",
    "    \n"
   ]
  },
  {
   "cell_type": "markdown",
   "id": "0391fcf8",
   "metadata": {},
   "source": [
    "## v2\n",
    "\n",
    "* on peut passer en paramètre à la fonction\n",
    "  * le domaine en x et en y\n",
    "  * le nombre maximum d'itérations\n",
    "* on veut pouvoir produire une image (pour l'insérer dans l'énoncé par exemple)\n",
    "  * quels formats sont disponibles ?\n",
    "  * sauvez votre image dans un format vectoriel\n",
    "  * affichez cette depuis votre notebook"
   ]
  }
 ],
 "metadata": {
  "jupytext": {
   "cell_metadata_json": true,
   "encoding": "# -*- coding: utf-8 -*-"
  },
  "kernelspec": {
   "display_name": "base",
   "language": "python",
   "name": "python3"
  },
  "language_info": {
   "codemirror_mode": {
    "name": "ipython",
    "version": 3
   },
   "file_extension": ".py",
   "mimetype": "text/x-python",
   "name": "python",
   "nbconvert_exporter": "python",
   "pygments_lexer": "ipython3",
   "version": "3.11.5"
  },
  "notebookname": "Mandelbrot"
 },
 "nbformat": 4,
 "nbformat_minor": 5
}
